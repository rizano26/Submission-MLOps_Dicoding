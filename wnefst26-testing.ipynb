{
 "cells": [
  {
   "cell_type": "code",
   "execution_count": 1,
   "metadata": {},
   "outputs": [],
   "source": [
    "import requests\n",
    "import json\n",
    "from pprint import PrettyPrinter\n",
    "import tensorflow as tf"
   ]
  },
  {
   "cell_type": "markdown",
   "metadata": {},
   "source": [
    "## Make prediction request"
   ]
  },
  {
   "cell_type": "code",
   "execution_count": 18,
   "metadata": {},
   "outputs": [
    {
     "name": "stdout",
     "output_type": "stream",
     "text": [
      "Prediction: 0.999254704 (Spam)\n"
     ]
    }
   ],
   "source": [
    "# URL untuk mengirim request ke model yang berjalan di Docker\n",
    "url = \"https://proyek-kedua-ydrkli3j2q-uc.a.run.app/v1/models/spam-detection-model:predict\"\n",
    "\n",
    "# Contoh pesan yang akan diuji\n",
    "test_message = \"Congratulations! You've won a $1000 Walmart gift card. Go to http://bit.ly/123456 to claim now.\"\n",
    "\n",
    "# Membuat TFRecord serialized example\n",
    "def create_tfrecord_example(message):\n",
    "    feature = {\n",
    "        \"Message\": tf.train.Feature(bytes_list=tf.train.BytesList(value=[message.encode()]))\n",
    "    }\n",
    "    example_proto = tf.train.Example(features=tf.train.Features(feature=feature))\n",
    "    return example_proto.SerializeToString()\n",
    "\n",
    "# Membuat payload untuk request\n",
    "payload = {\n",
    "    \"signature_name\": \"serving_default\",\n",
    "    \"instances\": [{\"examples\": create_tfrecord_example(test_message).decode('ISO-8859-1')}]\n",
    "}\n",
    "\n",
    "# Mengirim POST request ke server model\n",
    "response = requests.post(url, data=json.dumps(payload))\n",
    "\n",
    "# Mengecek dan menampilkan hasil prediksi\n",
    "if response.status_code == 200:\n",
    "    prediction = response.json()['predictions'][0][0]\n",
    "    label = \"Spam\" if prediction >= 0.5 else \"Not Spam\"\n",
    "    print(f\"Prediction: {prediction} ({label})\")\n",
    "else:\n",
    "    print(f\"Error: {response.status_code}, {response.text}\")\n"
   ]
  }
 ],
 "metadata": {
  "kernelspec": {
   "display_name": "Python 3.8.13 ('tfx_mlops')",
   "language": "python",
   "name": "python3"
  },
  "language_info": {
   "codemirror_mode": {
    "name": "ipython",
    "version": 3
   },
   "file_extension": ".py",
   "mimetype": "text/x-python",
   "name": "python",
   "nbconvert_exporter": "python",
   "pygments_lexer": "ipython3",
   "version": "3.8.0"
  },
  "orig_nbformat": 4,
  "vscode": {
   "interpreter": {
    "hash": "455335cfd909c56542285c78762a473177bc2f2ae50e7dcd1861467146f8b87f"
   }
  }
 },
 "nbformat": 4,
 "nbformat_minor": 2
}
